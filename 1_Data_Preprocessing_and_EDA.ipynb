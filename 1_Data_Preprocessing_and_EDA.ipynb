{
  "nbformat": 4,
  "nbformat_minor": 0,
  "metadata": {
    "colab": {
      "provenance": [],
      "gpuType": "T4",
      "authorship_tag": "ABX9TyM7TK1rVfI11nqisESAqzlx",
      "include_colab_link": true
    },
    "kernelspec": {
      "name": "python3",
      "display_name": "Python 3"
    },
    "language_info": {
      "name": "python"
    }
  },
  "cells": [
    {
      "cell_type": "markdown",
      "metadata": {
        "id": "view-in-github",
        "colab_type": "text"
      },
      "source": [
        "<a href=\"https://colab.research.google.com/github/xinyuzhang99/User-Behavior-Analysis-from-Taobao/blob/main/1_Data_Preprocessing_and_EDA.ipynb\" target=\"_parent\"><img src=\"https://colab.research.google.com/assets/colab-badge.svg\" alt=\"Open In Colab\"/></a>"
      ]
    },
    {
      "cell_type": "markdown",
      "source": [],
      "metadata": {
        "id": "qxP9esUtRI8i"
      }
    },
    {
      "cell_type": "markdown",
      "source": [
        "## Install Dependencies and Set Environment\n",
        "\n",
        "*   Java 8\n",
        "*   Apache Spark with Hadoop\n",
        "*   Findspark: locate the spark in the system\n"
      ],
      "metadata": {
        "id": "46i2B2Z4RY1m"
      }
    },
    {
      "cell_type": "code",
      "source": [
        "!apt-get install openjdk-8-jdk-headless -qq > /dev/null"
      ],
      "metadata": {
        "id": "O1PeY18WRKN6"
      },
      "execution_count": null,
      "outputs": []
    },
    {
      "cell_type": "code",
      "source": [
        "!wget -q https://dlcdn.apache.org/spark/spark-3.4.1/spark-3.4.1-bin-hadoop3.tgz\n",
        "!tar xf spark-3.4.1-bin-hadoop3.tgz"
      ],
      "metadata": {
        "id": "cpLo3bVMRRBK"
      },
      "execution_count": null,
      "outputs": []
    },
    {
      "cell_type": "code",
      "source": [
        "!pip install -q findspark"
      ],
      "metadata": {
        "id": "hYcVewkhRSeK"
      },
      "execution_count": null,
      "outputs": []
    },
    {
      "cell_type": "code",
      "source": [
        "import os\n",
        "os.environ[\"JAVA_HOME\"] = \"/usr/lib/jvm/java-8-openjdk-amd64\"\n",
        "os.environ[\"SPARK_HOME\"] = \"/content/spark-3.4.1-bin-hadoop3\""
      ],
      "metadata": {
        "id": "zOmRX5DTR543"
      },
      "execution_count": null,
      "outputs": []
    },
    {
      "cell_type": "code",
      "source": [
        "!ls"
      ],
      "metadata": {
        "colab": {
          "base_uri": "https://localhost:8080/"
        },
        "id": "rkdu5bn3UIVp",
        "outputId": "c54f03c1-cb3c-4729-e2b4-d09d0bfc5a59"
      },
      "execution_count": null,
      "outputs": [
        {
          "output_type": "stream",
          "name": "stdout",
          "text": [
            "drive\t     spark-3.4.1-bin-hadoop3\t  spark-3.4.1-bin-hadoop3.tgz.1\n",
            "sample_data  spark-3.4.1-bin-hadoop3.tgz\n"
          ]
        }
      ]
    },
    {
      "cell_type": "code",
      "source": [
        "import findspark\n",
        "findspark.init()"
      ],
      "metadata": {
        "id": "1RPWolQLUJT9"
      },
      "execution_count": null,
      "outputs": []
    },
    {
      "cell_type": "code",
      "source": [
        "findspark.find()    # find the location for Spark"
      ],
      "metadata": {
        "colab": {
          "base_uri": "https://localhost:8080/",
          "height": 35
        },
        "id": "4pfVPCNHUPTG",
        "outputId": "db938462-c5ef-4939-d419-b68c9c477f17"
      },
      "execution_count": null,
      "outputs": [
        {
          "output_type": "execute_result",
          "data": {
            "text/plain": [
              "'/content/spark-3.4.1-bin-hadoop3'"
            ],
            "application/vnd.google.colaboratory.intrinsic+json": {
              "type": "string"
            }
          },
          "metadata": {},
          "execution_count": 90
        }
      ]
    },
    {
      "cell_type": "code",
      "source": [
        "from pyspark.sql import SparkSession\n",
        "# create a SparkSession\n",
        "# SparkSession.builder: start the process of creating a SparkSession\n",
        "# master(\"local[*]\"): set the Spark master URL to local mode with all available CPU cores on the machine\n",
        "# getOrCreate(): get an existing SparkSession or create a new one if none exists --> ensure only one SparkSession is created per JVM (Java Virtual Machine)\n",
        "spark = SparkSession.builder.master(\"local[*]\").getOrCreate()\n",
        "spark.conf.set(\"spark.sql.repl.eagerEval.enabled\", True) # Property used to format output tables better\n",
        "spark"
      ],
      "metadata": {
        "colab": {
          "base_uri": "https://localhost:8080/",
          "height": 221
        },
        "id": "UBsjo6ldUQyd",
        "outputId": "2e05b425-02e4-4a39-82f6-4cac0ac66d75"
      },
      "execution_count": null,
      "outputs": [
        {
          "output_type": "execute_result",
          "data": {
            "text/plain": [
              "<pyspark.sql.session.SparkSession at 0x7c04c8f306d0>"
            ],
            "text/html": [
              "\n",
              "            <div>\n",
              "                <p><b>SparkSession - in-memory</b></p>\n",
              "                \n",
              "        <div>\n",
              "            <p><b>SparkContext</b></p>\n",
              "\n",
              "            <p><a href=\"http://f9ac48868b44:4040\">Spark UI</a></p>\n",
              "\n",
              "            <dl>\n",
              "              <dt>Version</dt>\n",
              "                <dd><code>v3.4.1</code></dd>\n",
              "              <dt>Master</dt>\n",
              "                <dd><code>local[*]</code></dd>\n",
              "              <dt>AppName</dt>\n",
              "                <dd><code>pyspark-shell</code></dd>\n",
              "            </dl>\n",
              "        </div>\n",
              "        \n",
              "            </div>\n",
              "        "
            ]
          },
          "metadata": {},
          "execution_count": 91
        }
      ]
    },
    {
      "cell_type": "markdown",
      "source": [
        "## Load Data"
      ],
      "metadata": {
        "id": "P6RikUWFR02-"
      }
    },
    {
      "cell_type": "code",
      "source": [
        "from pyspark.sql.functions import col"
      ],
      "metadata": {
        "id": "kmoemP7dkG4I"
      },
      "execution_count": null,
      "outputs": []
    },
    {
      "cell_type": "code",
      "source": [
        "# Connect Google Drive files to Collaboratory\n",
        "from google.colab import drive\n",
        "drive.mount('/content/drive')"
      ],
      "metadata": {
        "colab": {
          "base_uri": "https://localhost:8080/"
        },
        "id": "LJPyc6tUUs9N",
        "outputId": "5ca1986f-683e-472f-f086-ba596f365e75"
      },
      "execution_count": null,
      "outputs": [
        {
          "output_type": "stream",
          "name": "stdout",
          "text": [
            "Drive already mounted at /content/drive; to attempt to forcibly remount, call drive.mount(\"/content/drive\", force_remount=True).\n"
          ]
        }
      ]
    },
    {
      "cell_type": "code",
      "source": [
        "df = spark.read.csv('/content/drive/MyDrive/Projects/User_Behavior_Analysis_from_Taobao/UserBehavior.csv')"
      ],
      "metadata": {
        "id": "xZm4r_7VR3Uc"
      },
      "execution_count": null,
      "outputs": []
    },
    {
      "cell_type": "code",
      "source": [
        "# rename the columns based on dataset description\n",
        "df = df.withColumnRenamed('_c0', 'User_ID')     \\\n",
        "       .withColumnRenamed('_c1', 'Product_ID')  \\\n",
        "       .withColumnRenamed('_c2', 'Category_ID') \\\n",
        "       .withColumnRenamed('_c3', 'Behavior')    \\\n",
        "       .withColumnRenamed('_c4', 'Timestamp')\n",
        "df.show(5)"
      ],
      "metadata": {
        "colab": {
          "base_uri": "https://localhost:8080/"
        },
        "id": "1IV5Fd4tUqOU",
        "outputId": "f722510d-59c0-46ef-ae98-e96b93bd5d37"
      },
      "execution_count": null,
      "outputs": [
        {
          "output_type": "stream",
          "name": "stdout",
          "text": [
            "+-------+----------+-----------+--------+----------+\n",
            "|User_ID|Product_ID|Category_ID|Behavior| Timestamp|\n",
            "+-------+----------+-----------+--------+----------+\n",
            "|      1|   2268318|    2520377|      pv|1511544070|\n",
            "|      1|   2333346|    2520771|      pv|1511561733|\n",
            "|      1|   2576651|     149192|      pv|1511572885|\n",
            "|      1|   3830808|    4181361|      pv|1511593493|\n",
            "|      1|   4365585|    2520377|      pv|1511596146|\n",
            "+-------+----------+-----------+--------+----------+\n",
            "only showing top 5 rows\n",
            "\n"
          ]
        }
      ]
    },
    {
      "cell_type": "code",
      "source": [
        "from pyspark.sql.functions import to_date, from_unixtime, date_format, month, dayofmonth, dayofweek, hour"
      ],
      "metadata": {
        "id": "q1mIcjjaaem4"
      },
      "execution_count": null,
      "outputs": []
    },
    {
      "cell_type": "code",
      "source": [
        "# convert from unix time to date\n",
        "df = df.withColumn(\"Datetime\", date_format(from_unixtime(\"Timestamp\"), 'yyyy-MM-dd HH:mm:ss'))\n",
        "df.show(5)"
      ],
      "metadata": {
        "colab": {
          "base_uri": "https://localhost:8080/"
        },
        "id": "VO9Py7TGaixk",
        "outputId": "086a7c4d-d9b6-4bab-eb26-1ed5098853c1"
      },
      "execution_count": null,
      "outputs": [
        {
          "output_type": "stream",
          "name": "stdout",
          "text": [
            "+-------+----------+-----------+--------+----------+-------------------+\n",
            "|User_ID|Product_ID|Category_ID|Behavior| Timestamp|           Datetime|\n",
            "+-------+----------+-----------+--------+----------+-------------------+\n",
            "|      1|   2268318|    2520377|      pv|1511544070|2017-11-24 17:21:10|\n",
            "|      1|   2333346|    2520771|      pv|1511561733|2017-11-24 22:15:33|\n",
            "|      1|   2576651|     149192|      pv|1511572885|2017-11-25 01:21:25|\n",
            "|      1|   3830808|    4181361|      pv|1511593493|2017-11-25 07:04:53|\n",
            "|      1|   4365585|    2520377|      pv|1511596146|2017-11-25 07:49:06|\n",
            "+-------+----------+-----------+--------+----------+-------------------+\n",
            "only showing top 5 rows\n",
            "\n"
          ]
        }
      ]
    },
    {
      "cell_type": "code",
      "source": [
        "df.drop('Timestamp')"
      ],
      "metadata": {
        "colab": {
          "base_uri": "https://localhost:8080/",
          "height": 529
        },
        "id": "FCktnvXKa_fz",
        "outputId": "4fb1f39e-d233-4ba0-b0ed-aee208262763"
      },
      "execution_count": null,
      "outputs": [
        {
          "output_type": "execute_result",
          "data": {
            "text/plain": [
              "+-------+----------+-----------+--------+-------------------+\n",
              "|User_ID|Product_ID|Category_ID|Behavior|           Datetime|\n",
              "+-------+----------+-----------+--------+-------------------+\n",
              "|      1|   2268318|    2520377|      pv|2017-11-24 17:21:10|\n",
              "|      1|   2333346|    2520771|      pv|2017-11-24 22:15:33|\n",
              "|      1|   2576651|     149192|      pv|2017-11-25 01:21:25|\n",
              "|      1|   3830808|    4181361|      pv|2017-11-25 07:04:53|\n",
              "|      1|   4365585|    2520377|      pv|2017-11-25 07:49:06|\n",
              "|      1|   4606018|    2735466|      pv|2017-11-25 13:28:01|\n",
              "|      1|    230380|     411153|      pv|2017-11-25 21:22:22|\n",
              "|      1|   3827899|    2920476|      pv|2017-11-26 16:24:33|\n",
              "|      1|   3745169|    2891509|      pv|2017-11-26 19:44:31|\n",
              "|      1|   1531036|    2920476|      pv|2017-11-26 22:02:12|\n",
              "|      1|   2266567|    4145813|      pv|2017-11-27 00:11:11|\n",
              "|      1|   2951368|    1080785|      pv|2017-11-27 02:47:08|\n",
              "|      1|   3108797|    2355072|      pv|2017-11-27 05:01:21|\n",
              "|      1|   1338525|     149192|      pv|2017-11-27 09:00:14|\n",
              "|      1|   2286574|    2465336|      pv|2017-11-27 15:39:27|\n",
              "|      1|   5002615|    2520377|      pv|2017-11-28 03:23:05|\n",
              "|      1|   2734026|    4145813|      pv|2017-11-28 04:09:44|\n",
              "|      1|   5002615|    2520377|      pv|2017-11-28 04:44:33|\n",
              "|      1|   3239041|    2355072|      pv|2017-11-28 07:54:24|\n",
              "|      1|   4615417|    4145813|      pv|2017-11-28 12:07:44|\n",
              "+-------+----------+-----------+--------+-------------------+\n",
              "only showing top 20 rows"
            ],
            "text/html": [
              "<table border='1'>\n",
              "<tr><th>User_ID</th><th>Product_ID</th><th>Category_ID</th><th>Behavior</th><th>Datetime</th></tr>\n",
              "<tr><td>1</td><td>2268318</td><td>2520377</td><td>pv</td><td>2017-11-24 17:21:10</td></tr>\n",
              "<tr><td>1</td><td>2333346</td><td>2520771</td><td>pv</td><td>2017-11-24 22:15:33</td></tr>\n",
              "<tr><td>1</td><td>2576651</td><td>149192</td><td>pv</td><td>2017-11-25 01:21:25</td></tr>\n",
              "<tr><td>1</td><td>3830808</td><td>4181361</td><td>pv</td><td>2017-11-25 07:04:53</td></tr>\n",
              "<tr><td>1</td><td>4365585</td><td>2520377</td><td>pv</td><td>2017-11-25 07:49:06</td></tr>\n",
              "<tr><td>1</td><td>4606018</td><td>2735466</td><td>pv</td><td>2017-11-25 13:28:01</td></tr>\n",
              "<tr><td>1</td><td>230380</td><td>411153</td><td>pv</td><td>2017-11-25 21:22:22</td></tr>\n",
              "<tr><td>1</td><td>3827899</td><td>2920476</td><td>pv</td><td>2017-11-26 16:24:33</td></tr>\n",
              "<tr><td>1</td><td>3745169</td><td>2891509</td><td>pv</td><td>2017-11-26 19:44:31</td></tr>\n",
              "<tr><td>1</td><td>1531036</td><td>2920476</td><td>pv</td><td>2017-11-26 22:02:12</td></tr>\n",
              "<tr><td>1</td><td>2266567</td><td>4145813</td><td>pv</td><td>2017-11-27 00:11:11</td></tr>\n",
              "<tr><td>1</td><td>2951368</td><td>1080785</td><td>pv</td><td>2017-11-27 02:47:08</td></tr>\n",
              "<tr><td>1</td><td>3108797</td><td>2355072</td><td>pv</td><td>2017-11-27 05:01:21</td></tr>\n",
              "<tr><td>1</td><td>1338525</td><td>149192</td><td>pv</td><td>2017-11-27 09:00:14</td></tr>\n",
              "<tr><td>1</td><td>2286574</td><td>2465336</td><td>pv</td><td>2017-11-27 15:39:27</td></tr>\n",
              "<tr><td>1</td><td>5002615</td><td>2520377</td><td>pv</td><td>2017-11-28 03:23:05</td></tr>\n",
              "<tr><td>1</td><td>2734026</td><td>4145813</td><td>pv</td><td>2017-11-28 04:09:44</td></tr>\n",
              "<tr><td>1</td><td>5002615</td><td>2520377</td><td>pv</td><td>2017-11-28 04:44:33</td></tr>\n",
              "<tr><td>1</td><td>3239041</td><td>2355072</td><td>pv</td><td>2017-11-28 07:54:24</td></tr>\n",
              "<tr><td>1</td><td>4615417</td><td>4145813</td><td>pv</td><td>2017-11-28 12:07:44</td></tr>\n",
              "</table>\n",
              "only showing top 20 rows\n"
            ]
          },
          "metadata": {},
          "execution_count": 98
        }
      ]
    },
    {
      "cell_type": "code",
      "source": [
        "df.printSchema()"
      ],
      "metadata": {
        "id": "MuLeNJpqa0dZ",
        "colab": {
          "base_uri": "https://localhost:8080/"
        },
        "outputId": "6ec1ea98-a597-49ee-be22-2be0491a9292"
      },
      "execution_count": null,
      "outputs": [
        {
          "output_type": "stream",
          "name": "stdout",
          "text": [
            "root\n",
            " |-- User_ID: string (nullable = true)\n",
            " |-- Product_ID: string (nullable = true)\n",
            " |-- Category_ID: string (nullable = true)\n",
            " |-- Behavior: string (nullable = true)\n",
            " |-- Timestamp: string (nullable = true)\n",
            " |-- Datetime: string (nullable = true)\n",
            "\n"
          ]
        }
      ]
    },
    {
      "cell_type": "markdown",
      "source": [
        "### Data Cleaning"
      ],
      "metadata": {
        "id": "FOIDgD8pW6De"
      }
    },
    {
      "cell_type": "code",
      "source": [
        "# Create a temporary view to run SQL queries on df\n",
        "df.createOrReplaceTempView('df_temp')"
      ],
      "metadata": {
        "id": "oKdvmQmpZUzc"
      },
      "execution_count": null,
      "outputs": []
    },
    {
      "cell_type": "code",
      "source": [
        "# drop data points outside the range using sql\n",
        "# This can also be done by:\n",
        "# df = df.filter(df['Datetime'] > '2017-11-25 00:00:00')\n",
        "# df = df.filter(df['Datetime'] < '2017-12-03 23:59:59')\n",
        "query = \"\"\"\n",
        "SELECT *\n",
        "FROM df_temp\n",
        "WHERE Datetime > '2017-11-25 00:00:00' AND Datetime < '2017-12-03 23:59:59'\n",
        "\"\"\"\n",
        "\n",
        "df = spark.sql(query)\n",
        "df.show()"
      ],
      "metadata": {
        "colab": {
          "base_uri": "https://localhost:8080/"
        },
        "id": "ZtKpRpKjYR42",
        "outputId": "b785211b-b96f-4f0e-8af3-fd01c579a8dc"
      },
      "execution_count": null,
      "outputs": [
        {
          "output_type": "stream",
          "name": "stdout",
          "text": [
            "+-------+----------+-----------+--------+----------+-------------------+\n",
            "|User_ID|Product_ID|Category_ID|Behavior| Timestamp|           Datetime|\n",
            "+-------+----------+-----------+--------+----------+-------------------+\n",
            "|      1|   2576651|     149192|      pv|1511572885|2017-11-25 01:21:25|\n",
            "|      1|   3830808|    4181361|      pv|1511593493|2017-11-25 07:04:53|\n",
            "|      1|   4365585|    2520377|      pv|1511596146|2017-11-25 07:49:06|\n",
            "|      1|   4606018|    2735466|      pv|1511616481|2017-11-25 13:28:01|\n",
            "|      1|    230380|     411153|      pv|1511644942|2017-11-25 21:22:22|\n",
            "|      1|   3827899|    2920476|      pv|1511713473|2017-11-26 16:24:33|\n",
            "|      1|   3745169|    2891509|      pv|1511725471|2017-11-26 19:44:31|\n",
            "|      1|   1531036|    2920476|      pv|1511733732|2017-11-26 22:02:12|\n",
            "|      1|   2266567|    4145813|      pv|1511741471|2017-11-27 00:11:11|\n",
            "|      1|   2951368|    1080785|      pv|1511750828|2017-11-27 02:47:08|\n",
            "|      1|   3108797|    2355072|      pv|1511758881|2017-11-27 05:01:21|\n",
            "|      1|   1338525|     149192|      pv|1511773214|2017-11-27 09:00:14|\n",
            "|      1|   2286574|    2465336|      pv|1511797167|2017-11-27 15:39:27|\n",
            "|      1|   5002615|    2520377|      pv|1511839385|2017-11-28 03:23:05|\n",
            "|      1|   2734026|    4145813|      pv|1511842184|2017-11-28 04:09:44|\n",
            "|      1|   5002615|    2520377|      pv|1511844273|2017-11-28 04:44:33|\n",
            "|      1|   3239041|    2355072|      pv|1511855664|2017-11-28 07:54:24|\n",
            "|      1|   4615417|    4145813|      pv|1511870864|2017-11-28 12:07:44|\n",
            "|      1|   4152983|    2355072|      pv|1511871096|2017-11-28 12:11:36|\n",
            "|      1|    266784|    2520771|      pv|1511884553|2017-11-28 15:55:53|\n",
            "+-------+----------+-----------+--------+----------+-------------------+\n",
            "only showing top 20 rows\n",
            "\n"
          ]
        }
      ]
    },
    {
      "cell_type": "code",
      "source": [
        "df = df.withColumn('Month', month('Datetime'))           \\\n",
        "       .withColumn('Day', dayofmonth('Datetime'))        \\\n",
        "       .withColumn('Day_of_Week', dayofweek('Datetime')) \\\n",
        "       .withColumn('Hour', hour('Datetime'))"
      ],
      "metadata": {
        "id": "QKIOvmcgbKj6"
      },
      "execution_count": null,
      "outputs": []
    },
    {
      "cell_type": "code",
      "source": [
        "# remove possible duplicated values\n",
        "oriCount = df.count()\n",
        "df = df.dropDuplicates()\n",
        "modCount = df.count()\n",
        "print(\"There are in total of \" + str(modCount) + \" valid records. \" + str(oriCount - modCount) + \" duplicated records are removed.\")"
      ],
      "metadata": {
        "colab": {
          "base_uri": "https://localhost:8080/"
        },
        "id": "L8U9J-5SXPKN",
        "outputId": "5eb77311-a753-474c-8034-20d04a6c38f3"
      },
      "execution_count": null,
      "outputs": [
        {
          "output_type": "stream",
          "name": "stdout",
          "text": [
            "There are in total of 98914388 valid records. 49 duplicated records are removed.\n"
          ]
        }
      ]
    },
    {
      "cell_type": "code",
      "source": [
        "# drop rows with any null value\n",
        "df = df.dropna()"
      ],
      "metadata": {
        "id": "t7h4qi4ZXfcd"
      },
      "execution_count": null,
      "outputs": []
    },
    {
      "cell_type": "markdown",
      "source": [
        "### Exploratory Data Analysis"
      ],
      "metadata": {
        "id": "lszeJRPmeSj4"
      }
    },
    {
      "cell_type": "code",
      "source": [
        "df.select('Behavior').distinct().show()"
      ],
      "metadata": {
        "colab": {
          "base_uri": "https://localhost:8080/"
        },
        "id": "JTTDpPR_WPBo",
        "outputId": "d0117519-f9d2-46c0-d65c-9905513f2588"
      },
      "execution_count": null,
      "outputs": [
        {
          "output_type": "stream",
          "name": "stdout",
          "text": [
            "+--------+\n",
            "|Behavior|\n",
            "+--------+\n",
            "|     buy|\n",
            "|     fav|\n",
            "|    cart|\n",
            "|      pv|\n",
            "+--------+\n",
            "\n"
          ]
        }
      ]
    },
    {
      "cell_type": "code",
      "source": [
        "df.groupBy('Category_ID').count().orderBy('count', ascending=False).show(5)"
      ],
      "metadata": {
        "colab": {
          "base_uri": "https://localhost:8080/"
        },
        "id": "FIZgNy53kDRA",
        "outputId": "ebf60c7f-2b30-4b7a-f339-ad70879c7ec1"
      },
      "execution_count": null,
      "outputs": [
        {
          "output_type": "stream",
          "name": "stdout",
          "text": [
            "+-----------+-------+\n",
            "|Category_ID|  count|\n",
            "+-----------+-------+\n",
            "|    4756105|4862531|\n",
            "|    4145813|3468980|\n",
            "|    2355072|3374936|\n",
            "|    3607361|3170712|\n",
            "|     982926|3067879|\n",
            "+-----------+-------+\n",
            "only showing top 5 rows\n",
            "\n"
          ]
        }
      ]
    },
    {
      "cell_type": "code",
      "source": [
        "df.groupBy('Behavior').count().orderBy('count', ascending=False).show()"
      ],
      "metadata": {
        "colab": {
          "base_uri": "https://localhost:8080/"
        },
        "id": "kjfoqJsfmV7F",
        "outputId": "5a4865ac-a7c3-4c19-e03c-746941e6d51d"
      },
      "execution_count": null,
      "outputs": [
        {
          "output_type": "stream",
          "name": "stdout",
          "text": [
            "+--------+--------+\n",
            "|Behavior|   count|\n",
            "+--------+--------+\n",
            "|      pv|89716264|\n",
            "|    cart| 5530446|\n",
            "|     fav| 2888258|\n",
            "|     buy| 2015839|\n",
            "+--------+--------+\n",
            "\n"
          ]
        }
      ]
    },
    {
      "cell_type": "code",
      "source": [
        "df.dtypes"
      ],
      "metadata": {
        "colab": {
          "base_uri": "https://localhost:8080/"
        },
        "id": "f78U5CTQPusg",
        "outputId": "0a5fbd32-bde9-4d5f-bc12-c90365eead59"
      },
      "execution_count": null,
      "outputs": [
        {
          "output_type": "execute_result",
          "data": {
            "text/plain": [
              "[('User_ID', 'string'),\n",
              " ('Product_ID', 'string'),\n",
              " ('Category_ID', 'string'),\n",
              " ('Behavior', 'string'),\n",
              " ('Timestamp', 'string'),\n",
              " ('Date', 'string'),\n",
              " ('Datetime', 'string'),\n",
              " ('Month', 'int'),\n",
              " ('Day', 'int'),\n",
              " ('Day_of_Week', 'int'),\n",
              " ('Hour', 'int')]"
            ]
          },
          "metadata": {},
          "execution_count": 40
        }
      ]
    },
    {
      "cell_type": "code",
      "source": [
        "from pyspark.sql.functions import udf\n",
        "from pyspark.sql.types import StringType"
      ],
      "metadata": {
        "id": "5W89_edfPiDa"
      },
      "execution_count": null,
      "outputs": []
    },
    {
      "cell_type": "code",
      "source": [
        "def season(month):\n",
        "  if month >= 3 and month <= 5:\n",
        "    return 'Spring'\n",
        "  elif month >= 6 and month <= 8:\n",
        "    return 'Summer'\n",
        "  elif month >= 9 and month <= 11:\n",
        "    return 'Autumn'\n",
        "  else:\n",
        "    return 'Winter'\n",
        "\n",
        "get_season = udf(season, StringType())"
      ],
      "metadata": {
        "id": "J9uoV7gUPm6C"
      },
      "execution_count": null,
      "outputs": []
    },
    {
      "cell_type": "code",
      "source": [
        "df = df.withColumn('Season', get_season(df['Month']))"
      ],
      "metadata": {
        "id": "jmh6oceLTcI-"
      },
      "execution_count": null,
      "outputs": []
    },
    {
      "cell_type": "code",
      "source": [
        "df.groupBy('Season').count().show()"
      ],
      "metadata": {
        "colab": {
          "base_uri": "https://localhost:8080/",
          "height": 478
        },
        "id": "h8HwkwibTnrF",
        "outputId": "1620091b-434f-4e92-9a6c-f53295dd6ed1"
      },
      "execution_count": null,
      "outputs": [
        {
          "output_type": "stream",
          "name": "stderr",
          "text": [
            "ERROR:root:KeyboardInterrupt while sending command.\n",
            "Traceback (most recent call last):\n",
            "  File \"/content/spark-3.4.1-bin-hadoop3/python/lib/py4j-0.10.9.7-src.zip/py4j/java_gateway.py\", line 1038, in send_command\n",
            "    response = connection.send_command(command)\n",
            "  File \"/content/spark-3.4.1-bin-hadoop3/python/lib/py4j-0.10.9.7-src.zip/py4j/clientserver.py\", line 511, in send_command\n",
            "    answer = smart_decode(self.stream.readline()[:-1])\n",
            "  File \"/usr/lib/python3.10/socket.py\", line 705, in readinto\n",
            "    return self._sock.recv_into(b)\n",
            "KeyboardInterrupt\n"
          ]
        },
        {
          "output_type": "error",
          "ename": "KeyboardInterrupt",
          "evalue": "ignored",
          "traceback": [
            "\u001b[0;31m---------------------------------------------------------------------------\u001b[0m",
            "\u001b[0;31mKeyboardInterrupt\u001b[0m                         Traceback (most recent call last)",
            "\u001b[0;32m<ipython-input-48-d5529c663c76>\u001b[0m in \u001b[0;36m<cell line: 1>\u001b[0;34m()\u001b[0m\n\u001b[0;32m----> 1\u001b[0;31m \u001b[0mdf\u001b[0m\u001b[0;34m.\u001b[0m\u001b[0mgroupBy\u001b[0m\u001b[0;34m(\u001b[0m\u001b[0;34m'Season'\u001b[0m\u001b[0;34m)\u001b[0m\u001b[0;34m.\u001b[0m\u001b[0mcount\u001b[0m\u001b[0;34m(\u001b[0m\u001b[0;34m)\u001b[0m\u001b[0;34m.\u001b[0m\u001b[0mshow\u001b[0m\u001b[0;34m(\u001b[0m\u001b[0;34m)\u001b[0m\u001b[0;34m\u001b[0m\u001b[0;34m\u001b[0m\u001b[0m\n\u001b[0m",
            "\u001b[0;32m/content/spark-3.4.1-bin-hadoop3/python/pyspark/sql/dataframe.py\u001b[0m in \u001b[0;36mshow\u001b[0;34m(self, n, truncate, vertical)\u001b[0m\n\u001b[1;32m    897\u001b[0m \u001b[0;34m\u001b[0m\u001b[0m\n\u001b[1;32m    898\u001b[0m         \u001b[0;32mif\u001b[0m \u001b[0misinstance\u001b[0m\u001b[0;34m(\u001b[0m\u001b[0mtruncate\u001b[0m\u001b[0;34m,\u001b[0m \u001b[0mbool\u001b[0m\u001b[0;34m)\u001b[0m \u001b[0;32mand\u001b[0m \u001b[0mtruncate\u001b[0m\u001b[0;34m:\u001b[0m\u001b[0;34m\u001b[0m\u001b[0;34m\u001b[0m\u001b[0m\n\u001b[0;32m--> 899\u001b[0;31m             \u001b[0mprint\u001b[0m\u001b[0;34m(\u001b[0m\u001b[0mself\u001b[0m\u001b[0;34m.\u001b[0m\u001b[0m_jdf\u001b[0m\u001b[0;34m.\u001b[0m\u001b[0mshowString\u001b[0m\u001b[0;34m(\u001b[0m\u001b[0mn\u001b[0m\u001b[0;34m,\u001b[0m \u001b[0;36m20\u001b[0m\u001b[0;34m,\u001b[0m \u001b[0mvertical\u001b[0m\u001b[0;34m)\u001b[0m\u001b[0;34m)\u001b[0m\u001b[0;34m\u001b[0m\u001b[0;34m\u001b[0m\u001b[0m\n\u001b[0m\u001b[1;32m    900\u001b[0m         \u001b[0;32melse\u001b[0m\u001b[0;34m:\u001b[0m\u001b[0;34m\u001b[0m\u001b[0;34m\u001b[0m\u001b[0m\n\u001b[1;32m    901\u001b[0m             \u001b[0;32mtry\u001b[0m\u001b[0;34m:\u001b[0m\u001b[0;34m\u001b[0m\u001b[0;34m\u001b[0m\u001b[0m\n",
            "\u001b[0;32m/content/spark-3.4.1-bin-hadoop3/python/lib/py4j-0.10.9.7-src.zip/py4j/java_gateway.py\u001b[0m in \u001b[0;36m__call__\u001b[0;34m(self, *args)\u001b[0m\n\u001b[1;32m   1319\u001b[0m             \u001b[0mproto\u001b[0m\u001b[0;34m.\u001b[0m\u001b[0mEND_COMMAND_PART\u001b[0m\u001b[0;34m\u001b[0m\u001b[0;34m\u001b[0m\u001b[0m\n\u001b[1;32m   1320\u001b[0m \u001b[0;34m\u001b[0m\u001b[0m\n\u001b[0;32m-> 1321\u001b[0;31m         \u001b[0manswer\u001b[0m \u001b[0;34m=\u001b[0m \u001b[0mself\u001b[0m\u001b[0;34m.\u001b[0m\u001b[0mgateway_client\u001b[0m\u001b[0;34m.\u001b[0m\u001b[0msend_command\u001b[0m\u001b[0;34m(\u001b[0m\u001b[0mcommand\u001b[0m\u001b[0;34m)\u001b[0m\u001b[0;34m\u001b[0m\u001b[0;34m\u001b[0m\u001b[0m\n\u001b[0m\u001b[1;32m   1322\u001b[0m         return_value = get_return_value(\n\u001b[1;32m   1323\u001b[0m             answer, self.gateway_client, self.target_id, self.name)\n",
            "\u001b[0;32m/content/spark-3.4.1-bin-hadoop3/python/lib/py4j-0.10.9.7-src.zip/py4j/java_gateway.py\u001b[0m in \u001b[0;36msend_command\u001b[0;34m(self, command, retry, binary)\u001b[0m\n\u001b[1;32m   1036\u001b[0m         \u001b[0mconnection\u001b[0m \u001b[0;34m=\u001b[0m \u001b[0mself\u001b[0m\u001b[0;34m.\u001b[0m\u001b[0m_get_connection\u001b[0m\u001b[0;34m(\u001b[0m\u001b[0;34m)\u001b[0m\u001b[0;34m\u001b[0m\u001b[0;34m\u001b[0m\u001b[0m\n\u001b[1;32m   1037\u001b[0m         \u001b[0;32mtry\u001b[0m\u001b[0;34m:\u001b[0m\u001b[0;34m\u001b[0m\u001b[0;34m\u001b[0m\u001b[0m\n\u001b[0;32m-> 1038\u001b[0;31m             \u001b[0mresponse\u001b[0m \u001b[0;34m=\u001b[0m \u001b[0mconnection\u001b[0m\u001b[0;34m.\u001b[0m\u001b[0msend_command\u001b[0m\u001b[0;34m(\u001b[0m\u001b[0mcommand\u001b[0m\u001b[0;34m)\u001b[0m\u001b[0;34m\u001b[0m\u001b[0;34m\u001b[0m\u001b[0m\n\u001b[0m\u001b[1;32m   1039\u001b[0m             \u001b[0;32mif\u001b[0m \u001b[0mbinary\u001b[0m\u001b[0;34m:\u001b[0m\u001b[0;34m\u001b[0m\u001b[0;34m\u001b[0m\u001b[0m\n\u001b[1;32m   1040\u001b[0m                 \u001b[0;32mreturn\u001b[0m \u001b[0mresponse\u001b[0m\u001b[0;34m,\u001b[0m \u001b[0mself\u001b[0m\u001b[0;34m.\u001b[0m\u001b[0m_create_connection_guard\u001b[0m\u001b[0;34m(\u001b[0m\u001b[0mconnection\u001b[0m\u001b[0;34m)\u001b[0m\u001b[0;34m\u001b[0m\u001b[0;34m\u001b[0m\u001b[0m\n",
            "\u001b[0;32m/content/spark-3.4.1-bin-hadoop3/python/lib/py4j-0.10.9.7-src.zip/py4j/clientserver.py\u001b[0m in \u001b[0;36msend_command\u001b[0;34m(self, command)\u001b[0m\n\u001b[1;32m    509\u001b[0m         \u001b[0;32mtry\u001b[0m\u001b[0;34m:\u001b[0m\u001b[0;34m\u001b[0m\u001b[0;34m\u001b[0m\u001b[0m\n\u001b[1;32m    510\u001b[0m             \u001b[0;32mwhile\u001b[0m \u001b[0;32mTrue\u001b[0m\u001b[0;34m:\u001b[0m\u001b[0;34m\u001b[0m\u001b[0;34m\u001b[0m\u001b[0m\n\u001b[0;32m--> 511\u001b[0;31m                 \u001b[0manswer\u001b[0m \u001b[0;34m=\u001b[0m \u001b[0msmart_decode\u001b[0m\u001b[0;34m(\u001b[0m\u001b[0mself\u001b[0m\u001b[0;34m.\u001b[0m\u001b[0mstream\u001b[0m\u001b[0;34m.\u001b[0m\u001b[0mreadline\u001b[0m\u001b[0;34m(\u001b[0m\u001b[0;34m)\u001b[0m\u001b[0;34m[\u001b[0m\u001b[0;34m:\u001b[0m\u001b[0;34m-\u001b[0m\u001b[0;36m1\u001b[0m\u001b[0;34m]\u001b[0m\u001b[0;34m)\u001b[0m\u001b[0;34m\u001b[0m\u001b[0;34m\u001b[0m\u001b[0m\n\u001b[0m\u001b[1;32m    512\u001b[0m                 \u001b[0mlogger\u001b[0m\u001b[0;34m.\u001b[0m\u001b[0mdebug\u001b[0m\u001b[0;34m(\u001b[0m\u001b[0;34m\"Answer received: {0}\"\u001b[0m\u001b[0;34m.\u001b[0m\u001b[0mformat\u001b[0m\u001b[0;34m(\u001b[0m\u001b[0manswer\u001b[0m\u001b[0;34m)\u001b[0m\u001b[0;34m)\u001b[0m\u001b[0;34m\u001b[0m\u001b[0;34m\u001b[0m\u001b[0m\n\u001b[1;32m    513\u001b[0m                 \u001b[0;31m# Happens when a the other end is dead. There might be an empty\u001b[0m\u001b[0;34m\u001b[0m\u001b[0;34m\u001b[0m\u001b[0m\n",
            "\u001b[0;32m/usr/lib/python3.10/socket.py\u001b[0m in \u001b[0;36mreadinto\u001b[0;34m(self, b)\u001b[0m\n\u001b[1;32m    703\u001b[0m         \u001b[0;32mwhile\u001b[0m \u001b[0;32mTrue\u001b[0m\u001b[0;34m:\u001b[0m\u001b[0;34m\u001b[0m\u001b[0;34m\u001b[0m\u001b[0m\n\u001b[1;32m    704\u001b[0m             \u001b[0;32mtry\u001b[0m\u001b[0;34m:\u001b[0m\u001b[0;34m\u001b[0m\u001b[0;34m\u001b[0m\u001b[0m\n\u001b[0;32m--> 705\u001b[0;31m                 \u001b[0;32mreturn\u001b[0m \u001b[0mself\u001b[0m\u001b[0;34m.\u001b[0m\u001b[0m_sock\u001b[0m\u001b[0;34m.\u001b[0m\u001b[0mrecv_into\u001b[0m\u001b[0;34m(\u001b[0m\u001b[0mb\u001b[0m\u001b[0;34m)\u001b[0m\u001b[0;34m\u001b[0m\u001b[0;34m\u001b[0m\u001b[0m\n\u001b[0m\u001b[1;32m    706\u001b[0m             \u001b[0;32mexcept\u001b[0m \u001b[0mtimeout\u001b[0m\u001b[0;34m:\u001b[0m\u001b[0;34m\u001b[0m\u001b[0;34m\u001b[0m\u001b[0m\n\u001b[1;32m    707\u001b[0m                 \u001b[0mself\u001b[0m\u001b[0;34m.\u001b[0m\u001b[0m_timeout_occurred\u001b[0m \u001b[0;34m=\u001b[0m \u001b[0;32mTrue\u001b[0m\u001b[0;34m\u001b[0m\u001b[0;34m\u001b[0m\u001b[0m\n",
            "\u001b[0;31mKeyboardInterrupt\u001b[0m: "
          ]
        }
      ]
    },
    {
      "cell_type": "code",
      "source": [
        "df.show(20)"
      ],
      "metadata": {
        "colab": {
          "base_uri": "https://localhost:8080/"
        },
        "id": "sseiX0SBN4nQ",
        "outputId": "1637f7f4-2119-44d1-eca2-79290cef3e87"
      },
      "execution_count": null,
      "outputs": [
        {
          "output_type": "stream",
          "name": "stdout",
          "text": [
            "+-------+----------+-----------+--------+----------+-------------------+-------------------+-----+---+-----------+----+------+\n",
            "|User_ID|Product_ID|Category_ID|Behavior| Timestamp|               Date|           Datetime|Month|Day|Day_of_Week|Hour|Season|\n",
            "+-------+----------+-----------+--------+----------+-------------------+-------------------+-----+---+-----------+----+------+\n",
            "|      1|   2268318|    2520377|      pv|1511544070|2017-11-24 17:21:10|2017-11-24 17:21:10|   11| 24|          6|  17|Autumn|\n",
            "|      1|   2333346|    2520771|      pv|1511561733|2017-11-24 22:15:33|2017-11-24 22:15:33|   11| 24|          6|  22|Autumn|\n",
            "|      1|   2576651|     149192|      pv|1511572885|2017-11-25 01:21:25|2017-11-25 01:21:25|   11| 25|          7|   1|Autumn|\n",
            "|      1|   3830808|    4181361|      pv|1511593493|2017-11-25 07:04:53|2017-11-25 07:04:53|   11| 25|          7|   7|Autumn|\n",
            "|      1|   4365585|    2520377|      pv|1511596146|2017-11-25 07:49:06|2017-11-25 07:49:06|   11| 25|          7|   7|Autumn|\n",
            "|      1|   4606018|    2735466|      pv|1511616481|2017-11-25 13:28:01|2017-11-25 13:28:01|   11| 25|          7|  13|Autumn|\n",
            "|      1|    230380|     411153|      pv|1511644942|2017-11-25 21:22:22|2017-11-25 21:22:22|   11| 25|          7|  21|Autumn|\n",
            "|      1|   3827899|    2920476|      pv|1511713473|2017-11-26 16:24:33|2017-11-26 16:24:33|   11| 26|          1|  16|Autumn|\n",
            "|      1|   3745169|    2891509|      pv|1511725471|2017-11-26 19:44:31|2017-11-26 19:44:31|   11| 26|          1|  19|Autumn|\n",
            "|      1|   1531036|    2920476|      pv|1511733732|2017-11-26 22:02:12|2017-11-26 22:02:12|   11| 26|          1|  22|Autumn|\n",
            "|      1|   2266567|    4145813|      pv|1511741471|2017-11-27 00:11:11|2017-11-27 00:11:11|   11| 27|          2|   0|Autumn|\n",
            "|      1|   2951368|    1080785|      pv|1511750828|2017-11-27 02:47:08|2017-11-27 02:47:08|   11| 27|          2|   2|Autumn|\n",
            "|      1|   3108797|    2355072|      pv|1511758881|2017-11-27 05:01:21|2017-11-27 05:01:21|   11| 27|          2|   5|Autumn|\n",
            "|      1|   1338525|     149192|      pv|1511773214|2017-11-27 09:00:14|2017-11-27 09:00:14|   11| 27|          2|   9|Autumn|\n",
            "|      1|   2286574|    2465336|      pv|1511797167|2017-11-27 15:39:27|2017-11-27 15:39:27|   11| 27|          2|  15|Autumn|\n",
            "|      1|   5002615|    2520377|      pv|1511839385|2017-11-28 03:23:05|2017-11-28 03:23:05|   11| 28|          3|   3|Autumn|\n",
            "|      1|   2734026|    4145813|      pv|1511842184|2017-11-28 04:09:44|2017-11-28 04:09:44|   11| 28|          3|   4|Autumn|\n",
            "|      1|   5002615|    2520377|      pv|1511844273|2017-11-28 04:44:33|2017-11-28 04:44:33|   11| 28|          3|   4|Autumn|\n",
            "|      1|   3239041|    2355072|      pv|1511855664|2017-11-28 07:54:24|2017-11-28 07:54:24|   11| 28|          3|   7|Autumn|\n",
            "|      1|   4615417|    4145813|      pv|1511870864|2017-11-28 12:07:44|2017-11-28 12:07:44|   11| 28|          3|  12|Autumn|\n",
            "+-------+----------+-----------+--------+----------+-------------------+-------------------+-----+---+-----------+----+------+\n",
            "only showing top 20 rows\n",
            "\n"
          ]
        }
      ]
    },
    {
      "cell_type": "code",
      "source": [
        "test = df"
      ],
      "metadata": {
        "id": "xcl4R_NliWdo"
      },
      "execution_count": null,
      "outputs": []
    },
    {
      "cell_type": "code",
      "source": [
        "test.dtypes"
      ],
      "metadata": {
        "colab": {
          "base_uri": "https://localhost:8080/"
        },
        "id": "HN43NrDgieoL",
        "outputId": "7262a45a-4321-4ae4-80a0-0eac2920ea30"
      },
      "execution_count": null,
      "outputs": [
        {
          "output_type": "execute_result",
          "data": {
            "text/plain": [
              "[('User_ID', 'string'),\n",
              " ('Product_ID', 'string'),\n",
              " ('Category_ID', 'string'),\n",
              " ('Behavior', 'string'),\n",
              " ('Timestamp', 'string')]"
            ]
          },
          "metadata": {},
          "execution_count": 59
        }
      ]
    },
    {
      "cell_type": "code",
      "source": [],
      "metadata": {
        "id": "2eZZF9H4fBpW"
      },
      "execution_count": null,
      "outputs": []
    }
  ]
}